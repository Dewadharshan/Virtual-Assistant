{
 "cells": [
  {
   "cell_type": "code",
   "execution_count": 1,
   "metadata": {},
   "outputs": [],
   "source": [
    "from pydub.silence import split_on_silence\n",
    "import speech_recognition as sr\n",
    "from pydub import AudioSegment\n",
    "import tkinter as tk\n",
    "import pyautogui\n",
    "import whisper\n",
    "import tempfile\n",
    "import torch\n",
    "import numpy as np\n",
    "import time\n",
    "import whisper\n",
    "import threading\n",
    "import keyboard\n",
    "import data_analyzer\n",
    "import tasks\n",
    "import os\n",
    "import io"
   ]
  },
  {
   "cell_type": "code",
   "execution_count": 2,
   "metadata": {},
   "outputs": [
    {
     "name": "stdout",
     "output_type": "stream",
     "text": [
      "------------iteration----------\n",
      "transcribed_text {'text': ''}\n",
      "sentence {'text': ''} <class 'dict'>\n",
      "[]\n",
      "final prob =  0.5229412317276001\n",
      "can't find command\n",
      "command =  None\n",
      "transcribed_text {'text': ''}\n",
      "sentence {'text': ''} <class 'dict'>\n",
      "[]\n",
      "final prob =  0.5229412317276001\n",
      "can't find command\n",
      "command =  None\n",
      "transcribed_text {'text': ''}\n",
      "sentence {'text': ''} <class 'dict'>\n",
      "[]\n",
      "final prob =  0.5229412317276001\n",
      "can't find command\n",
      "command =  None\n",
      "------------iteration----------\n",
      "------------iteration----------\n",
      "transcribed_text {'text': ''}\n",
      "sentence {'text': ''} <class 'dict'>\n",
      "[]\n",
      "final prob =  0.5229412317276001\n",
      "can't find command\n",
      "command =  None\n",
      "transcribed_text {'text': ''}\n",
      "sentence {'text': ''} <class 'dict'>\n",
      "[]\n",
      "final prob =  0.5229412317276001\n",
      "can't find command\n",
      "command =  None\n",
      "transcribed_text {'text': ''}\n",
      "sentence {'text': ''} <class 'dict'>\n",
      "[]\n",
      "final prob =  0.5229412317276001\n",
      "can't find command\n",
      "command =  None\n",
      "transcribed_text {'text': ''}\n",
      "sentence {'text': ''} <class 'dict'>\n",
      "[]\n",
      "final prob =  0.5229412317276001\n",
      "can't find command\n",
      "command =  None\n",
      "------------iteration----------\n",
      "------------iteration----------\n",
      "------------iteration----------\n",
      "------------iteration----------\n",
      "------------iteration----------\n",
      "------------iteration----------\n",
      "------------iteration----------\n",
      "------------iteration----------\n",
      "------------iteration----------\n",
      "------------iteration----------\n",
      "------------iteration----------\n",
      "------------iteration----------\n",
      "------------iteration----------\n",
      "------------iteration----------\n",
      "------------iteration----------\n",
      "------------iteration----------\n",
      "------------iteration----------\n",
      "------------iteration----------\n",
      "------------iteration----------\n",
      "------------iteration----------\n",
      "------------iteration----------\n",
      "------------iteration----------\n",
      "------------iteration----------\n",
      "------------iteration----------\n",
      "------------iteration----------\n",
      "------------iteration----------\n",
      "------------iteration----------\n",
      "------------iteration----------\n",
      "------------iteration----------\n",
      "------------iteration----------\n",
      "------------iteration----------\n",
      "------------iteration----------\n",
      "------------iteration----------\n",
      "------------iteration----------\n",
      "------------iteration----------\n",
      "------------iteration----------\n",
      "------------iteration----------\n",
      "------------iteration----------\n",
      "------------iteration----------\n",
      "------------iteration----------\n",
      "------------iteration----------\n",
      "------------iteration----------\n",
      "------------iteration----------\n",
      "------------iteration----------\n",
      "------------iteration----------\n",
      "------------iteration----------\n",
      "------------iteration----------\n",
      "------------iteration----------\n",
      "------------iteration----------\n",
      "------------iteration----------\n",
      "------------iteration----------\n",
      "------------iteration----------\n",
      "------------iteration----------\n",
      "------------iteration----------\n",
      "------------iteration----------\n",
      "------------iteration----------\n",
      "------------iteration----------\n",
      "------------iteration----------\n",
      "------------iteration----------\n",
      "------------iteration----------\n",
      "------------iteration----------\n",
      "------------iteration----------\n",
      "------------iteration----------\n",
      "------------iteration----------\n",
      "------------iteration----------\n",
      "------------iteration----------\n",
      "------------iteration----------\n",
      "------------iteration----------\n",
      "------------iteration----------\n",
      "------------iteration----------\n",
      "------------iteration----------\n",
      "------------iteration----------\n",
      "------------iteration----------\n",
      "------------iteration----------\n",
      "------------iteration----------\n",
      "------------iteration----------\n",
      "------------iteration----------\n",
      "------------iteration----------\n",
      "------------iteration----------\n",
      "------------iteration----------\n",
      "------------iteration----------\n",
      "transcribed_text {'text': 'increase the volume'}\n",
      "sentence {'text': 'increase the volume'} <class 'dict'>\n",
      "['increas', 'the', 'volum']\n",
      "final prob =  0.9764873385429382\n",
      "command found\n",
      "command =  volume(1)\n"
     ]
    }
   ],
   "source": [
    "listening_status = \"None\"\n",
    "transcribed_text = \"\"\n",
    "\n",
    "def speech_to_text(initiate):\n",
    "        \n",
    "    if initiate:\n",
    "        window.lift()\n",
    "        time.sleep(0.1)\n",
    "        pyautogui.moveTo(20,1050)\n",
    "        pyautogui.click()\n",
    "\n",
    "        pyautogui.hotkey('win','h')\n",
    "\n",
    "    text = text_entry.get()\n",
    "\n",
    "    transcribed_text = {\"text\":text}\n",
    "   \n",
    "    return transcribed_text\n",
    "    \n",
    "def reset():\n",
    "    text_entry.delete(0,\"end\")\n",
    "    pyautogui.press('esc')\n",
    "\n",
    "\n",
    "def execute_command():\n",
    "    global is_listening\n",
    "    \n",
    "    while True:\n",
    "        key_input = None\n",
    "        key_input = keyboard.read_key()\n",
    "\n",
    "        print(\"------------iteration----------\")\n",
    "\n",
    "        if key_input == 'ctrl':\n",
    "            if not is_listening:\n",
    "                is_listening = True\n",
    "                speech_to_text(initiate = True)\n",
    "                while is_listening:\n",
    "\n",
    "                    transcribed_text = speech_to_text(initiate=False)\n",
    "                    print(\"transcribed_text\",transcribed_text)\n",
    "\n",
    "                    command = data_analyzer.analyze_command(transcribed_text)\n",
    "                    print(\"command = \",command)\n",
    "\n",
    "                    if command != None:\n",
    "                        exec(\"tasks.\"+command)\n",
    "                        tasks.speak(\"command executed\")\n",
    "\n",
    "                        reset()\n",
    "                        is_listening = False\n",
    "                    time.sleep(0.5)\n",
    "                        \n",
    "        \n",
    "        \n",
    "            \n",
    "\n",
    "def monitor():\n",
    "    global is_listening\n",
    "    while True:\n",
    "        key_input = None\n",
    "        key_input = keyboard.read_key()\n",
    "        if key_input == 'alt':\n",
    "            is_listening = False\n",
    "            reset()\n",
    "\n",
    "\n",
    "\n",
    "window = tk.Tk()\n",
    "window.geometry(f\"{400}x{30}+{0}+{1040}\")\n",
    "window.attributes('-topmost', True)\n",
    "window.overrideredirect(True)\n",
    "window.configure(bg=\"#202020\")\n",
    "window.geometry(\"400x150\")\n",
    "\n",
    "\n",
    "text_entry = tk.Entry(window,width=300,font=(\"Helvetica\", 15),bg='#202020',fg='white')\n",
    "text_entry.grid(row=0, column=0)\n",
    "\n",
    "is_listening = False\n",
    "\n",
    "\n",
    "command_execution_thread = threading.Thread(target=execute_command)\n",
    "command_execution_thread.start()\n",
    "monitor_execution_thread = threading.Thread(target=monitor)\n",
    "monitor_execution_thread.start()\n",
    "\n",
    "window.mainloop()\n",
    "\n",
    "\n"
   ]
  },
  {
   "cell_type": "code",
   "execution_count": 1,
   "metadata": {},
   "outputs": [
    {
     "ename": "SyntaxError",
     "evalue": "invalid syntax (461832017.py, line 11)",
     "output_type": "error",
     "traceback": [
      "\u001b[1;36m  File \u001b[1;32m\"C:\\Users\\Lenovo\\AppData\\Local\\Temp\\ipykernel_14240\\461832017.py\"\u001b[1;36m, line \u001b[1;32m11\u001b[0m\n\u001b[1;33m    text_entry = tk.Entry(window)\u001b[0m\n\u001b[1;37m    ^\u001b[0m\n\u001b[1;31mSyntaxError\u001b[0m\u001b[1;31m:\u001b[0m invalid syntax\n"
     ]
    }
   ],
   "source": [
    "import tkinter as tk\n",
    "\n",
    "\n",
    "window = tk.Tk()\n",
    "window.geometry(f\"{400}x{30}+{760}+{750}\")\n",
    "window.overrideredirect(True)\n",
    "#window.config(bg = '#add123')\n",
    "#window.wm_attributes('-transparentcolor','#add123')\n",
    "\n",
    "\n",
    "text_entry = tk.Entry(window)\n",
    "text_entry.pack()\n",
    "\n",
    "\n",
    "\n",
    "\n",
    "window.mainloop()"
   ]
  },
  {
   "cell_type": "code",
   "execution_count": 6,
   "metadata": {},
   "outputs": [],
   "source": [
    "import os\n",
    "import subprocess\n",
    "\n",
    "x = subprocess.run('powershell -Command \"Get-Ciminstance -Namespace root/WMI -ClassName WmiMonitorBrightness | Select -ExpandProperty \"CurrentBrightness\"\"',capture_output=True)"
   ]
  },
  {
   "cell_type": "code",
   "execution_count": 40,
   "metadata": {},
   "outputs": [
    {
     "data": {
      "text/plain": [
       "CompletedProcess(args='powershell (Get-WmiObject -Namespace root/WMI -Class WmiMonitorBrightnessMethods).WmiSetBrightness(1,70)', returncode=0)"
      ]
     },
     "execution_count": 40,
     "metadata": {},
     "output_type": "execute_result"
    }
   ],
   "source": [
    "\n",
    "brightness_value = subprocess.run('powershell -Command \"Get-Ciminstance -Namespace root/WMI -ClassName WmiMonitorBrightness | Select -ExpandProperty \"CurrentBrightness\"\"',capture_output=True)\n",
    "\n",
    "\n",
    "subprocess.run('powershell (Get-WmiObject -Namespace root/WMI -Class WmiMonitorBrightnessMethods).WmiSetBrightness(1,'+str(int(brightness_value.stdout)+30)+')')"
   ]
  },
  {
   "cell_type": "code",
   "execution_count": 2,
   "metadata": {},
   "outputs": [
    {
     "name": "stdout",
     "output_type": "stream",
     "text": [
      "Temperature is 29°C\n",
      "Time:  Sunday 11:35 am\n",
      "Sky Description:  Mostly Cloudy\n",
      ".\n"
     ]
    }
   ],
   "source": [
    "# importing library\n",
    "import requests\n",
    "from bs4 import BeautifulSoup\n",
    " \n",
    "# enter city name\n",
    "city = \"karur\"\n",
    " \n",
    "# creating url and requests instance\n",
    "url = \"https://www.google.com/search?q=\"+\"weather\"+city\n",
    "html = requests.get(url).content\n",
    " \n",
    "# getting raw data\n",
    "soup = BeautifulSoup(html, 'html.parser')\n",
    "temp = soup.find('div', attrs={'class': 'BNeawe iBp4i AP7Wnd'}).text\n",
    "str = soup.find('div', attrs={'class': 'BNeawe tAd8D AP7Wnd'}).text\n",
    " \n",
    "# formatting data\n",
    "data = str.split('\\n')\n",
    "time = data[0]\n",
    "sky = data[1]\n",
    " \n",
    "# getting all div tag\n",
    "listdiv = soup.findAll('div', attrs={'class': 'BNeawe s3v9rd AP7Wnd'})\n",
    "strd = listdiv[5].text\n",
    " \n",
    "# getting other required data\n",
    "pos = strd.find('Wind')\n",
    "other_data = strd[pos:]\n",
    " \n",
    "# printing all data\n",
    "print(\"Temperature is\", temp)\n",
    "print(\"Time: \", time)\n",
    "print(\"Sky Description: \", sky)\n",
    "print(other_data)"
   ]
  },
  {
   "cell_type": "code",
   "execution_count": 4,
   "metadata": {},
   "outputs": [
    {
     "ename": "WebDriverException",
     "evalue": "Message: disconnected: not connected to DevTools\n  (failed to check if window was closed: disconnected: not connected to DevTools)\n  (Session info: chrome=119.0.6045.106)\nStacktrace:\n\tGetHandleVerifier [0x00007FF7E7A782B2+55298]\n\t(No symbol) [0x00007FF7E79E5E02]\n\t(No symbol) [0x00007FF7E78A05AB]\n\t(No symbol) [0x00007FF7E788D1AA]\n\t(No symbol) [0x00007FF7E788D9CE]\n\t(No symbol) [0x00007FF7E788D900]\n\t(No symbol) [0x00007FF7E78826EB]\n\t(No symbol) [0x00007FF7E7881250]\n\t(No symbol) [0x00007FF7E78809B6]\n\t(No symbol) [0x00007FF7E792E2E9]\n\t(No symbol) [0x00007FF7E79020AA]\n\t(No symbol) [0x00007FF7E791AAA4]\n\t(No symbol) [0x00007FF7E7901E83]\n\t(No symbol) [0x00007FF7E78D670A]\n\t(No symbol) [0x00007FF7E78D7964]\n\tGetHandleVerifier [0x00007FF7E7DF0AAB+3694587]\n\tGetHandleVerifier [0x00007FF7E7E4728E+4048862]\n\tGetHandleVerifier [0x00007FF7E7E3F173+4015811]\n\tGetHandleVerifier [0x00007FF7E7B147D6+695590]\n\t(No symbol) [0x00007FF7E79F0CE8]\n\t(No symbol) [0x00007FF7E79ECF34]\n\t(No symbol) [0x00007FF7E79ED062]\n\t(No symbol) [0x00007FF7E79DD3A3]\n\tBaseThreadInitThunk [0x00007FFE5D0E257D+29]\n\tRtlUserThreadStart [0x00007FFE5E4AAA78+40]\n",
     "output_type": "error",
     "traceback": [
      "\u001b[1;31m---------------------------------------------------------------------------\u001b[0m",
      "\u001b[1;31mWebDriverException\u001b[0m                        Traceback (most recent call last)",
      "\u001b[1;32m~\\AppData\\Local\\Temp\\ipykernel_17364\\1402014278.py\u001b[0m in \u001b[0;36m<module>\u001b[1;34m\u001b[0m\n\u001b[0;32m      2\u001b[0m \u001b[1;33m\u001b[0m\u001b[0m\n\u001b[0;32m      3\u001b[0m \u001b[0mchrome\u001b[0m \u001b[1;33m=\u001b[0m \u001b[0mapplication_tasks\u001b[0m\u001b[1;33m.\u001b[0m\u001b[0mchrome\u001b[0m\u001b[1;33m(\u001b[0m\u001b[1;33m)\u001b[0m\u001b[1;33m\u001b[0m\u001b[1;33m\u001b[0m\u001b[0m\n\u001b[1;32m----> 4\u001b[1;33m \u001b[0mchrome\u001b[0m\u001b[1;33m.\u001b[0m\u001b[0mmaximize\u001b[0m\u001b[1;33m(\u001b[0m\u001b[1;33m)\u001b[0m\u001b[1;33m\u001b[0m\u001b[1;33m\u001b[0m\u001b[0m\n\u001b[0m\u001b[0;32m      5\u001b[0m \u001b[0mchrome\u001b[0m\u001b[1;33m.\u001b[0m\u001b[0msearch\u001b[0m\u001b[1;33m(\u001b[0m\u001b[1;34m\"https://www.google.com/search?q=\"\u001b[0m\u001b[1;33m+\u001b[0m\u001b[1;34m\"weather\"\u001b[0m\u001b[1;33m+\u001b[0m\u001b[1;34m\"karur\"\u001b[0m\u001b[1;33m)\u001b[0m\u001b[1;33m\u001b[0m\u001b[1;33m\u001b[0m\u001b[0m\n",
      "\u001b[1;32md:\\mini_project\\application_tasks.py\u001b[0m in \u001b[0;36mmaximize\u001b[1;34m(self)\u001b[0m\n\u001b[0;32m     47\u001b[0m         \u001b[0mdriver\u001b[0m\u001b[1;33m.\u001b[0m\u001b[0mget\u001b[0m\u001b[1;33m(\u001b[0m\u001b[0murl\u001b[0m \u001b[1;33m=\u001b[0m \u001b[0murl\u001b[0m\u001b[1;33m)\u001b[0m\u001b[1;33m\u001b[0m\u001b[1;33m\u001b[0m\u001b[0m\n\u001b[0;32m     48\u001b[0m     \u001b[1;32mdef\u001b[0m \u001b[0mmaximize\u001b[0m\u001b[1;33m(\u001b[0m\u001b[0mself\u001b[0m\u001b[1;33m)\u001b[0m\u001b[1;33m:\u001b[0m\u001b[1;33m\u001b[0m\u001b[1;33m\u001b[0m\u001b[0m\n\u001b[1;32m---> 49\u001b[1;33m         \u001b[0mdriver\u001b[0m\u001b[1;33m.\u001b[0m\u001b[0mmaximize_window\u001b[0m\u001b[1;33m(\u001b[0m\u001b[1;33m)\u001b[0m\u001b[1;33m\u001b[0m\u001b[1;33m\u001b[0m\u001b[0m\n\u001b[0m\u001b[0;32m     50\u001b[0m     \u001b[1;32mclass\u001b[0m \u001b[0myoutube\u001b[0m\u001b[1;33m:\u001b[0m\u001b[1;33m\u001b[0m\u001b[1;33m\u001b[0m\u001b[0m\n\u001b[0;32m     51\u001b[0m         \u001b[1;32mdef\u001b[0m \u001b[0mplay_video_by_count\u001b[0m\u001b[1;33m(\u001b[0m\u001b[0mself\u001b[0m\u001b[1;33m,\u001b[0m\u001b[0mvalue\u001b[0m\u001b[1;33m)\u001b[0m\u001b[1;33m:\u001b[0m\u001b[1;33m\u001b[0m\u001b[1;33m\u001b[0m\u001b[0m\n",
      "\u001b[1;32m~\\AppData\\Roaming\\Python\\Python39\\site-packages\\selenium\\webdriver\\remote\\webdriver.py\u001b[0m in \u001b[0;36mmaximize_window\u001b[1;34m(self)\u001b[0m\n\u001b[0;32m    605\u001b[0m         \"\"\"\n\u001b[0;32m    606\u001b[0m         \u001b[0mcommand\u001b[0m \u001b[1;33m=\u001b[0m \u001b[0mCommand\u001b[0m\u001b[1;33m.\u001b[0m\u001b[0mW3C_MAXIMIZE_WINDOW\u001b[0m\u001b[1;33m\u001b[0m\u001b[1;33m\u001b[0m\u001b[0m\n\u001b[1;32m--> 607\u001b[1;33m         \u001b[0mself\u001b[0m\u001b[1;33m.\u001b[0m\u001b[0mexecute\u001b[0m\u001b[1;33m(\u001b[0m\u001b[0mcommand\u001b[0m\u001b[1;33m,\u001b[0m \u001b[1;32mNone\u001b[0m\u001b[1;33m)\u001b[0m\u001b[1;33m\u001b[0m\u001b[1;33m\u001b[0m\u001b[0m\n\u001b[0m\u001b[0;32m    608\u001b[0m \u001b[1;33m\u001b[0m\u001b[0m\n\u001b[0;32m    609\u001b[0m     \u001b[1;32mdef\u001b[0m \u001b[0mfullscreen_window\u001b[0m\u001b[1;33m(\u001b[0m\u001b[0mself\u001b[0m\u001b[1;33m)\u001b[0m \u001b[1;33m->\u001b[0m \u001b[1;32mNone\u001b[0m\u001b[1;33m:\u001b[0m\u001b[1;33m\u001b[0m\u001b[1;33m\u001b[0m\u001b[0m\n",
      "\u001b[1;32m~\\AppData\\Roaming\\Python\\Python39\\site-packages\\selenium\\webdriver\\remote\\webdriver.py\u001b[0m in \u001b[0;36mexecute\u001b[1;34m(self, driver_command, params)\u001b[0m\n\u001b[0;32m    442\u001b[0m         \u001b[0mresponse\u001b[0m \u001b[1;33m=\u001b[0m \u001b[0mself\u001b[0m\u001b[1;33m.\u001b[0m\u001b[0mcommand_executor\u001b[0m\u001b[1;33m.\u001b[0m\u001b[0mexecute\u001b[0m\u001b[1;33m(\u001b[0m\u001b[0mdriver_command\u001b[0m\u001b[1;33m,\u001b[0m \u001b[0mparams\u001b[0m\u001b[1;33m)\u001b[0m\u001b[1;33m\u001b[0m\u001b[1;33m\u001b[0m\u001b[0m\n\u001b[0;32m    443\u001b[0m         \u001b[1;32mif\u001b[0m \u001b[0mresponse\u001b[0m\u001b[1;33m:\u001b[0m\u001b[1;33m\u001b[0m\u001b[1;33m\u001b[0m\u001b[0m\n\u001b[1;32m--> 444\u001b[1;33m             \u001b[0mself\u001b[0m\u001b[1;33m.\u001b[0m\u001b[0merror_handler\u001b[0m\u001b[1;33m.\u001b[0m\u001b[0mcheck_response\u001b[0m\u001b[1;33m(\u001b[0m\u001b[0mresponse\u001b[0m\u001b[1;33m)\u001b[0m\u001b[1;33m\u001b[0m\u001b[1;33m\u001b[0m\u001b[0m\n\u001b[0m\u001b[0;32m    445\u001b[0m             \u001b[0mresponse\u001b[0m\u001b[1;33m[\u001b[0m\u001b[1;34m\"value\"\u001b[0m\u001b[1;33m]\u001b[0m \u001b[1;33m=\u001b[0m \u001b[0mself\u001b[0m\u001b[1;33m.\u001b[0m\u001b[0m_unwrap_value\u001b[0m\u001b[1;33m(\u001b[0m\u001b[0mresponse\u001b[0m\u001b[1;33m.\u001b[0m\u001b[0mget\u001b[0m\u001b[1;33m(\u001b[0m\u001b[1;34m\"value\"\u001b[0m\u001b[1;33m,\u001b[0m \u001b[1;32mNone\u001b[0m\u001b[1;33m)\u001b[0m\u001b[1;33m)\u001b[0m\u001b[1;33m\u001b[0m\u001b[1;33m\u001b[0m\u001b[0m\n\u001b[0;32m    446\u001b[0m             \u001b[1;32mreturn\u001b[0m \u001b[0mresponse\u001b[0m\u001b[1;33m\u001b[0m\u001b[1;33m\u001b[0m\u001b[0m\n",
      "\u001b[1;32m~\\AppData\\Roaming\\Python\\Python39\\site-packages\\selenium\\webdriver\\remote\\errorhandler.py\u001b[0m in \u001b[0;36mcheck_response\u001b[1;34m(self, response)\u001b[0m\n\u001b[0;32m    247\u001b[0m                 \u001b[0malert_text\u001b[0m \u001b[1;33m=\u001b[0m \u001b[0mvalue\u001b[0m\u001b[1;33m[\u001b[0m\u001b[1;34m\"alert\"\u001b[0m\u001b[1;33m]\u001b[0m\u001b[1;33m.\u001b[0m\u001b[0mget\u001b[0m\u001b[1;33m(\u001b[0m\u001b[1;34m\"text\"\u001b[0m\u001b[1;33m)\u001b[0m\u001b[1;33m\u001b[0m\u001b[1;33m\u001b[0m\u001b[0m\n\u001b[0;32m    248\u001b[0m             \u001b[1;32mraise\u001b[0m \u001b[0mexception_class\u001b[0m\u001b[1;33m(\u001b[0m\u001b[0mmessage\u001b[0m\u001b[1;33m,\u001b[0m \u001b[0mscreen\u001b[0m\u001b[1;33m,\u001b[0m \u001b[0mstacktrace\u001b[0m\u001b[1;33m,\u001b[0m \u001b[0malert_text\u001b[0m\u001b[1;33m)\u001b[0m  \u001b[1;31m# type: ignore[call-arg]  # mypy is not smart enough here\u001b[0m\u001b[1;33m\u001b[0m\u001b[1;33m\u001b[0m\u001b[0m\n\u001b[1;32m--> 249\u001b[1;33m         \u001b[1;32mraise\u001b[0m \u001b[0mexception_class\u001b[0m\u001b[1;33m(\u001b[0m\u001b[0mmessage\u001b[0m\u001b[1;33m,\u001b[0m \u001b[0mscreen\u001b[0m\u001b[1;33m,\u001b[0m \u001b[0mstacktrace\u001b[0m\u001b[1;33m)\u001b[0m\u001b[1;33m\u001b[0m\u001b[1;33m\u001b[0m\u001b[0m\n\u001b[0m",
      "\u001b[1;31mWebDriverException\u001b[0m: Message: disconnected: not connected to DevTools\n  (failed to check if window was closed: disconnected: not connected to DevTools)\n  (Session info: chrome=119.0.6045.106)\nStacktrace:\n\tGetHandleVerifier [0x00007FF7E7A782B2+55298]\n\t(No symbol) [0x00007FF7E79E5E02]\n\t(No symbol) [0x00007FF7E78A05AB]\n\t(No symbol) [0x00007FF7E788D1AA]\n\t(No symbol) [0x00007FF7E788D9CE]\n\t(No symbol) [0x00007FF7E788D900]\n\t(No symbol) [0x00007FF7E78826EB]\n\t(No symbol) [0x00007FF7E7881250]\n\t(No symbol) [0x00007FF7E78809B6]\n\t(No symbol) [0x00007FF7E792E2E9]\n\t(No symbol) [0x00007FF7E79020AA]\n\t(No symbol) [0x00007FF7E791AAA4]\n\t(No symbol) [0x00007FF7E7901E83]\n\t(No symbol) [0x00007FF7E78D670A]\n\t(No symbol) [0x00007FF7E78D7964]\n\tGetHandleVerifier [0x00007FF7E7DF0AAB+3694587]\n\tGetHandleVerifier [0x00007FF7E7E4728E+4048862]\n\tGetHandleVerifier [0x00007FF7E7E3F173+4015811]\n\tGetHandleVerifier [0x00007FF7E7B147D6+695590]\n\t(No symbol) [0x00007FF7E79F0CE8]\n\t(No symbol) [0x00007FF7E79ECF34]\n\t(No symbol) [0x00007FF7E79ED062]\n\t(No symbol) [0x00007FF7E79DD3A3]\n\tBaseThreadInitThunk [0x00007FFE5D0E257D+29]\n\tRtlUserThreadStart [0x00007FFE5E4AAA78+40]\n"
     ]
    }
   ],
   "source": [
    "import application_tasks\n",
    "\n",
    "chrome = application_tasks.chrome()\n",
    "chrome.maximize()\n",
    "chrome.search(\"https://www.google.com/search?q=\"+\"weather\"+\"karur\")\n"
   ]
  },
  {
   "cell_type": "code",
   "execution_count": 7,
   "metadata": {},
   "outputs": [
    {
     "ename": "NameError",
     "evalue": "name 'BeautifulSoup' is not defined",
     "output_type": "error",
     "traceback": [
      "\u001b[1;31m---------------------------------------------------------------------------\u001b[0m",
      "\u001b[1;31mNameError\u001b[0m                                 Traceback (most recent call last)",
      "\u001b[1;32m~\\AppData\\Local\\Temp\\ipykernel_24320\\356360445.py\u001b[0m in \u001b[0;36m<module>\u001b[1;34m\u001b[0m\n\u001b[0;32m     10\u001b[0m \u001b[0mhtml\u001b[0m \u001b[1;33m=\u001b[0m \u001b[0mrequests\u001b[0m\u001b[1;33m.\u001b[0m\u001b[0mget\u001b[0m\u001b[1;33m(\u001b[0m\u001b[0murl\u001b[0m\u001b[1;33m)\u001b[0m\u001b[1;33m.\u001b[0m\u001b[0mcontent\u001b[0m\u001b[1;33m\u001b[0m\u001b[1;33m\u001b[0m\u001b[0m\n\u001b[0;32m     11\u001b[0m \u001b[1;33m\u001b[0m\u001b[0m\n\u001b[1;32m---> 12\u001b[1;33m \u001b[0msoup\u001b[0m \u001b[1;33m=\u001b[0m \u001b[0mBeautifulSoup\u001b[0m\u001b[1;33m(\u001b[0m\u001b[0mhtml\u001b[0m\u001b[1;33m,\u001b[0m \u001b[1;34m'html.parser'\u001b[0m\u001b[1;33m)\u001b[0m\u001b[1;33m\u001b[0m\u001b[1;33m\u001b[0m\u001b[0m\n\u001b[0m\u001b[0;32m     13\u001b[0m \u001b[0mtemp\u001b[0m \u001b[1;33m=\u001b[0m \u001b[0msoup\u001b[0m\u001b[1;33m.\u001b[0m\u001b[0mfind\u001b[0m\u001b[1;33m(\u001b[0m\u001b[1;34m'div'\u001b[0m\u001b[1;33m,\u001b[0m \u001b[0mattrs\u001b[0m\u001b[1;33m=\u001b[0m\u001b[1;33m{\u001b[0m\u001b[1;34m'class'\u001b[0m\u001b[1;33m:\u001b[0m \u001b[1;34m'BNeawe iBp4i AP7Wnd'\u001b[0m\u001b[1;33m}\u001b[0m\u001b[1;33m)\u001b[0m\u001b[1;33m.\u001b[0m\u001b[0mtext\u001b[0m\u001b[1;33m\u001b[0m\u001b[1;33m\u001b[0m\u001b[0m\n\u001b[0;32m     14\u001b[0m \u001b[0mstr\u001b[0m \u001b[1;33m=\u001b[0m \u001b[0msoup\u001b[0m\u001b[1;33m.\u001b[0m\u001b[0mfind\u001b[0m\u001b[1;33m(\u001b[0m\u001b[1;34m'div'\u001b[0m\u001b[1;33m,\u001b[0m \u001b[0mattrs\u001b[0m\u001b[1;33m=\u001b[0m\u001b[1;33m{\u001b[0m\u001b[1;34m'class'\u001b[0m\u001b[1;33m:\u001b[0m \u001b[1;34m'BNeawe tAd8D AP7Wnd'\u001b[0m\u001b[1;33m}\u001b[0m\u001b[1;33m)\u001b[0m\u001b[1;33m.\u001b[0m\u001b[0mtext\u001b[0m\u001b[1;33m\u001b[0m\u001b[1;33m\u001b[0m\u001b[0m\n",
      "\u001b[1;31mNameError\u001b[0m: name 'BeautifulSoup' is not defined"
     ]
    }
   ],
   "source": [
    "import application_tasks\n",
    "import requests\n",
    "chrome = application_tasks.chrome()\n",
    "chrome.maximize()\n",
    "chrome.search(\"https://www.google.com/search?q=\"+\"weather\"+\"karur\")\n",
    "\n",
    "city = \"karur\"\n",
    "\n",
    "url = \"https://www.google.com/search?q=\"+\"weather\"+city\n",
    "html = requests.get(url).content\n",
    "\n",
    "soup = BeautifulSoup(html, 'html.parser')\n",
    "temp = soup.find('div', attrs={'class': 'BNeawe iBp4i AP7Wnd'}).text\n",
    "str = soup.find('div', attrs={'class': 'BNeawe tAd8D AP7Wnd'}).text\n",
    "\n",
    "data = str.split('\\n')\n",
    "time = data[0]\n",
    "sky = data[1]\n",
    "\n",
    "listdiv = soup.findAll('div', attrs={'class': 'BNeawe s3v9rd AP7Wnd'})\n",
    "strd = listdiv[5].text\n",
    "\n",
    "pos = strd.find('Wind')\n",
    "\n",
    "\n",
    "print(\"data = \",temp,sky,time)"
   ]
  },
  {
   "cell_type": "code",
   "execution_count": 7,
   "metadata": {},
   "outputs": [
    {
     "data": {
      "text/plain": [
       "6"
      ]
     },
     "execution_count": 7,
     "metadata": {},
     "output_type": "execute_result"
    }
   ],
   "source": [
    "data = 'hello how are how'\n",
    "data.find(\"how\")"
   ]
  },
  {
   "cell_type": "code",
   "execution_count": 1,
   "metadata": {},
   "outputs": [
    {
     "name": "stdout",
     "output_type": "stream",
     "text": [
      "OPENING NOTEPAD\n"
     ]
    }
   ],
   "source": [
    "import pre_analyse\n",
    "import tasks\n",
    "import time\n",
    "\n",
    "time.sleep(1)\n",
    "#pre_analyse.pre_analyse_command(\"open google chrome\")\n",
    "#exec(\"tasks.\"+str(pre_analyse.pre_analyse_command(\"click on file definition\")))\n",
    "#tasks.open_application(' google chrome')\n",
    "\n",
    "\n",
    "tasks.take_notes()"
   ]
  },
  {
   "cell_type": "code",
   "execution_count": 1,
   "metadata": {},
   "outputs": [
    {
     "ename": "error",
     "evalue": "OpenCV(4.7.0) D:\\a\\opencv-python\\opencv-python\\opencv\\modules\\highgui\\src\\window.cpp:1272: error: (-2:Unspecified error) The function is not implemented. Rebuild the library with Windows, GTK+ 2.x or Cocoa support. If you are on Ubuntu or Debian, install libgtk2.0-dev and pkg-config, then re-run cmake or configure script in function 'cvShowImage'\n",
     "output_type": "error",
     "traceback": [
      "\u001b[1;31m---------------------------------------------------------------------------\u001b[0m",
      "\u001b[1;31merror\u001b[0m                                     Traceback (most recent call last)",
      "Cell \u001b[1;32mIn[1], line 17\u001b[0m\n\u001b[0;32m     14\u001b[0m \u001b[39mfor\u001b[39;00m (x, y, w, h) \u001b[39min\u001b[39;00m faces:\n\u001b[0;32m     15\u001b[0m     cv2\u001b[39m.\u001b[39mrectangle(frame, (x, y), (x\u001b[39m+\u001b[39mw, y\u001b[39m+\u001b[39mh), (\u001b[39m255\u001b[39m, \u001b[39m0\u001b[39m, \u001b[39m0\u001b[39m), \u001b[39m2\u001b[39m)\n\u001b[1;32m---> 17\u001b[0m cv2\u001b[39m.\u001b[39;49mimshow(\u001b[39m'\u001b[39;49m\u001b[39mReal-time Face Detection\u001b[39;49m\u001b[39m'\u001b[39;49m, frame)\n\u001b[0;32m     19\u001b[0m \u001b[39mif\u001b[39;00m cv2\u001b[39m.\u001b[39mwaitKey(\u001b[39m1\u001b[39m) \u001b[39m&\u001b[39m \u001b[39m0xFF\u001b[39m \u001b[39m==\u001b[39m \u001b[39mord\u001b[39m(\u001b[39m'\u001b[39m\u001b[39mq\u001b[39m\u001b[39m'\u001b[39m):\n\u001b[0;32m     20\u001b[0m     \u001b[39mbreak\u001b[39;00m\n",
      "\u001b[1;31merror\u001b[0m: OpenCV(4.7.0) D:\\a\\opencv-python\\opencv-python\\opencv\\modules\\highgui\\src\\window.cpp:1272: error: (-2:Unspecified error) The function is not implemented. Rebuild the library with Windows, GTK+ 2.x or Cocoa support. If you are on Ubuntu or Debian, install libgtk2.0-dev and pkg-config, then re-run cmake or configure script in function 'cvShowImage'\n"
     ]
    }
   ],
   "source": [
    "import cv2\n",
    "\n",
    "face_cascade = cv2.CascadeClassifier(cv2.data.haarcascades + 'haarcascade_frontalface_default.xml')\n",
    "\n",
    "cap = cv2.VideoCapture(0)\n",
    "while True:\n",
    "\n",
    "    ret, frame = cap.read()\n",
    "\n",
    "    gray = cv2.cvtColor(frame, cv2.COLOR_BGR2GRAY)\n",
    "\n",
    "    faces = face_cascade.detectMultiScale(gray, scaleFactor=1.3, minNeighbors=5)\n",
    "\n",
    "    for (x, y, w, h) in faces:\n",
    "        cv2.rectangle(frame, (x, y), (x+w, y+h), (255, 0, 0), 2)\n",
    "\n",
    "    cv2.imshow('Real-time Face Detection', frame)\n",
    "\n",
    "    if cv2.waitKey(1) & 0xFF == ord('q'):\n",
    "        break\n",
    "\n",
    "cap.release()\n",
    "cv2.destroyAllWindows()\n"
   ]
  },
  {
   "cell_type": "code",
   "execution_count": 1,
   "metadata": {},
   "outputs": [],
   "source": [
    "import cv2\n",
    "\n",
    "# Open the default camera (camera index 0)\n",
    "cap = cv2.VideoCapture(0)\n",
    "\n",
    "if not cap.isOpened():\n",
    "    print(\"Error: Could not open camera.\")\n",
    "else:\n",
    "    while True:\n",
    "        ret, frame = cap.read()\n",
    "        if not ret:\n",
    "            print(\"Error: Could not read frame.\")\n",
    "            break\n",
    "\n",
    "        # Display the captured frame\n",
    "        cv2.imshow('Camera', frame)\n",
    "\n",
    "        # Press 'q' to exit the loop and close the window\n",
    "        if cv2.waitKey(1) & 0xFF == ord('q'):\n",
    "            break\n",
    "\n",
    "    # Release the camera and close the OpenCV window\n",
    "    cap.release()\n",
    "    cv2.destroyAllWindows()\n"
   ]
  },
  {
   "cell_type": "code",
   "execution_count": 7,
   "metadata": {},
   "outputs": [
    {
     "name": "stdout",
     "output_type": "stream",
     "text": [
      "Cannot find screenshot_inverted.py on the screen\n"
     ]
    },
    {
     "data": {
      "text/plain": [
       "('Cannot find screenshot_inverted.py on the screen', False)"
      ]
     },
     "execution_count": 7,
     "metadata": {},
     "output_type": "execute_result"
    }
   ],
   "source": [
    "import pyautogui\n",
    "import pytesseract\n",
    "import json\n",
    "from PIL import Image, ImageOps\n",
    "from pytesseract import Output\n",
    "\n",
    "def invert_image_if_needed(image):\n",
    "    avg_color = ImageOps.exif_transpose(image).convert(\"RGB\").resize((1, 1)).getpixel((0, 0))\n",
    "    is_dark_background = sum(avg_color) / 3 < 128\n",
    "\n",
    "    if is_dark_background:\n",
    "        inverted_image = ImageOps.invert(image)\n",
    "    else:\n",
    "        inverted_image = image\n",
    "\n",
    "    return inverted_image.convert(\"L\")\n",
    "\n",
    "def find_text_on_screen(text):\n",
    "    text = text.lower().strip().split()  # Split multiple words\n",
    "    myscreenshot = pyautogui.screenshot()\n",
    "    \n",
    "    # Invert colors if needed\n",
    "    inverted_image = invert_image_if_needed(myscreenshot)\n",
    "    \n",
    "    inverted_image.save(\"D:\\\\mini_project\\\\temp\\\\screenshot_inverted.png\")\n",
    "\n",
    "    data = pytesseract.image_to_data(inverted_image, output_type=Output.DICT)\n",
    "\n",
    "    for i, value in enumerate(data['text']):\n",
    "        data['text'][i] = data['text'][i].lower()\n",
    "\n",
    "    with open(\"temp.json\", 'w') as f:\n",
    "        f.write(json.dumps(data))\n",
    "\n",
    "    try:\n",
    "        # Find the indices where all words are present\n",
    "        indices = [i for i in range(len(data['text'])) if all(word in data['text'][i].split() for word in text)]\n",
    "\n",
    "        if indices:\n",
    "            # Use the first matching index for simplicity, you may want to refine this logic\n",
    "            x, y, width, height = data['left'][indices[0]], data['top'][indices[0]], \\\n",
    "                                   data['width'][indices[0]], data['height'][indices[0]]\n",
    "            pyautogui.moveTo(x + width / 2, y + height / 2)\n",
    "            pyautogui.click()\n",
    "            print(x + width / 2, y + height / 2)\n",
    "        else:\n",
    "            print(\"Cannot find\", ' '.join(text), \"on the screen\")\n",
    "            return f\"Cannot find {' '.join(text)} on the screen\", False\n",
    "    except Exception as e:\n",
    "        print(\"Error:\", e)\n",
    "        return f\"Error: {e}\", False\n",
    "\n",
    "\n",
    "find_text_on_screen(\"screenshot_inverted.py\")"
   ]
  },
  {
   "cell_type": "code",
   "execution_count": null,
   "metadata": {},
   "outputs": [],
   "source": [
    "from chatterbot import ChatBot\n",
    "from chatterbot.trainers import ChatterBotCorpusTrainer\n",
    "\n",
    "chatbot = ChatBot('SimpleBot')\n",
    "trainer = ChatterBotCorpusTrainer(chatbot)\n",
    "\n",
    "# Train the chatbot on English language data\n",
    "trainer.train('chatterbot.corpus.english')\n",
    "\n",
    "# Get a response\n",
    "response = chatbot.get_response('Hi, how are you?')\n",
    "print(response)\n"
   ]
  },
  {
   "cell_type": "code",
   "execution_count": 5,
   "metadata": {},
   "outputs": [
    {
     "name": "stderr",
     "output_type": "stream",
     "text": [
      "Some weights of the model checkpoint at bert-base-uncased were not used when initializing BertForMaskedLM: ['cls.seq_relationship.weight', 'cls.seq_relationship.bias']\n",
      "- This IS expected if you are initializing BertForMaskedLM from the checkpoint of a model trained on another task or with another architecture (e.g. initializing a BertForSequenceClassification model from a BertForPreTraining model).\n",
      "- This IS NOT expected if you are initializing BertForMaskedLM from the checkpoint of a model that you expect to be exactly identical (initializing a BertForSequenceClassification model from a BertForSequenceClassification model).\n"
     ]
    },
    {
     "name": "stdout",
     "output_type": "stream",
     "text": [
      "response [CLS] hello [SEP] hello hello hello hello hello hello hello hello hello hello hello hello hello hello hello hello hello\n"
     ]
    }
   ],
   "source": [
    "from transformers import AutoModelWithLMHead, AutoTokenizer\n",
    "\n",
    "pre_model = \"bert-base-uncased\"\n",
    "\n",
    "tokenizer = AutoTokenizer.from_pretrained(pre_model)\n",
    "model = AutoModelWithLMHead.from_pretrained(pre_model)\n",
    "\n",
    "input_text = \"hello\"\n",
    "input_ids = tokenizer.encode(input_text, return_tensors='pt')\n",
    "outputs = model.generate(input_ids)\n",
    "\n",
    "# Decode the model's response and display it on the screen\n",
    "response = tokenizer.decode(outputs[0])\n",
    "print(\"response\",response)"
   ]
  },
  {
   "cell_type": "code",
   "execution_count": 5,
   "metadata": {},
   "outputs": [
    {
     "name": "stderr",
     "output_type": "stream",
     "text": [
      "The attention mask and the pad token id were not set. As a consequence, you may observe unexpected behavior. Please pass your input's `attention_mask` to obtain reliable results.\n",
      "Setting `pad_token_id` to `eos_token_id`:50256 for open-end generation.\n"
     ]
    },
    {
     "name": "stdout",
     "output_type": "stream",
     "text": [
      "response hello.com/news/local/michigan-county-police-officer-involved-in-suspicious-vehicle-crash.html\n",
      "\n",
      "http://www.wisc.gov/crime-and-justice\n"
     ]
    }
   ],
   "source": [
    "from transformers import GPT2LMHeadModel, GPT2Tokenizer\n",
    "\n",
    "pre_model = \"gpt2\"\n",
    "tokenizer = GPT2Tokenizer.from_pretrained(pre_model)\n",
    "model = GPT2LMHeadModel.from_pretrained(pre_model)\n",
    "\n",
    "input_text = \"hello\"\n",
    "input_ids = tokenizer.encode(input_text, return_tensors='pt')\n",
    "outputs = model.generate(input_ids, max_length=50, num_beams=5, no_repeat_ngram_size=2, top_k=50, top_p=0.95)\n",
    "\n",
    "response = tokenizer.decode(outputs[0], skip_special_tokens=True)\n",
    "print(\"response\", response)\n"
   ]
  },
  {
   "cell_type": "code",
   "execution_count": 12,
   "metadata": {},
   "outputs": [
    {
     "name": "stdout",
     "output_type": "stream",
     "text": [
      "response hello how are you doing?\"\n",
      "\n",
      "\"I'm doing fine,\" she said. \"I've got a lot of work to do. I'll be back in a couple of weeks.\"\n"
     ]
    }
   ],
   "source": [
    "from transformers import GPT2LMHeadModel, GPT2Tokenizer\n",
    "\n",
    "pre_model = \"gpt2\"\n",
    "tokenizer = GPT2Tokenizer.from_pretrained(pre_model)\n",
    "model = GPT2LMHeadModel.from_pretrained(pre_model)\n",
    "\n",
    "input_text = \"hello how are you\"\n",
    "input_ids = tokenizer.encode(input_text, return_tensors='pt')\n",
    "outputs = model.generate(input_ids, max_length=50, num_beams=5, no_repeat_ngram_size=2, top_k=50, top_p=0.95, pad_token_id=tokenizer.eos_token_id)\n",
    "\n",
    "response = tokenizer.decode(outputs[0], skip_special_tokens=True)\n",
    "print(\"response\", response)\n"
   ]
  }
 ],
 "metadata": {
  "kernelspec": {
   "display_name": "base",
   "language": "python",
   "name": "python3"
  },
  "language_info": {
   "codemirror_mode": {
    "name": "ipython",
    "version": 3
   },
   "file_extension": ".py",
   "mimetype": "text/x-python",
   "name": "python",
   "nbconvert_exporter": "python",
   "pygments_lexer": "ipython3",
   "version": "3.9.13 (main, Aug 25 2022, 23:51:50) [MSC v.1916 64 bit (AMD64)]"
  },
  "orig_nbformat": 4,
  "vscode": {
   "interpreter": {
    "hash": "90ae384ec8aa6644af31da6e68cfa043ca5e4f959255e106df86226e1926c12a"
   }
  }
 },
 "nbformat": 4,
 "nbformat_minor": 2
}
